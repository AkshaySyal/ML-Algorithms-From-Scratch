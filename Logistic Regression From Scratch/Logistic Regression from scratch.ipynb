{
  "cells": [
    {
      "cell_type": "markdown",
      "id": "181fe757",
      "metadata": {
        "id": "181fe757"
      },
      "source": [
        "##  Programming Exercise: Logistic Regression"
      ]
    },
    {
      "cell_type": "markdown",
      "id": "ea0e954c",
      "metadata": {
        "id": "ea0e954c"
      },
      "source": [
        "In this exercise, you will build a logistic regression model to predict whether a student gets admitted into a university.\n",
        "\n",
        "Suppose that you are the administrator of a university department and you want to determine each applicant’s chance of admission based on their results on two exams. You have historical data from previous applicants that you can use as a training set for logistic regression. For each training example, you have the applicant’s scores on two exams and the admissions decision. Your task is to build a classification model that estimates an applicant’s probability of admission based the scores from those two exams."
      ]
    },
    {
      "cell_type": "markdown",
      "id": "8f0ac360",
      "metadata": {
        "id": "8f0ac360"
      },
      "source": [
        "### 1. Loading the Data"
      ]
    },
    {
      "cell_type": "code",
      "execution_count": 1,
      "id": "f6448980",
      "metadata": {
        "colab": {
          "base_uri": "https://localhost:8080/"
        },
        "id": "f6448980",
        "outputId": "44135169-75f9-4347-c2d6-0a8b8775b2de"
      },
      "outputs": [
        {
          "output_type": "stream",
          "name": "stdout",
          "text": [
            "Mounted at /content/drive\n"
          ]
        }
      ],
      "source": [
        "import numpy as np\n",
        "import pandas as pd\n",
        "import matplotlib.pyplot as plt\n",
        "from google.colab import drive\n",
        "drive.mount('/content/drive')"
      ]
    },
    {
      "cell_type": "code",
      "execution_count": 2,
      "id": "a125655b",
      "metadata": {
        "colab": {
          "base_uri": "https://localhost:8080/",
          "height": 206
        },
        "id": "a125655b",
        "outputId": "e49e0e35-4dd6-495b-96d7-e45f2a2ac4ec"
      },
      "outputs": [
        {
          "output_type": "execute_result",
          "data": {
            "text/plain": [
              "   exam_score_1  exam_score_2  admitted\n",
              "0     34.623660     78.024693         0\n",
              "1     30.286711     43.894998         0\n",
              "2     35.847409     72.902198         0\n",
              "3     60.182599     86.308552         1\n",
              "4     79.032736     75.344376         1"
            ],
            "text/html": [
              "\n",
              "  <div id=\"df-94e12e8f-9af5-4f1f-8428-bfbd58b7a820\" class=\"colab-df-container\">\n",
              "    <div>\n",
              "<style scoped>\n",
              "    .dataframe tbody tr th:only-of-type {\n",
              "        vertical-align: middle;\n",
              "    }\n",
              "\n",
              "    .dataframe tbody tr th {\n",
              "        vertical-align: top;\n",
              "    }\n",
              "\n",
              "    .dataframe thead th {\n",
              "        text-align: right;\n",
              "    }\n",
              "</style>\n",
              "<table border=\"1\" class=\"dataframe\">\n",
              "  <thead>\n",
              "    <tr style=\"text-align: right;\">\n",
              "      <th></th>\n",
              "      <th>exam_score_1</th>\n",
              "      <th>exam_score_2</th>\n",
              "      <th>admitted</th>\n",
              "    </tr>\n",
              "  </thead>\n",
              "  <tbody>\n",
              "    <tr>\n",
              "      <th>0</th>\n",
              "      <td>34.623660</td>\n",
              "      <td>78.024693</td>\n",
              "      <td>0</td>\n",
              "    </tr>\n",
              "    <tr>\n",
              "      <th>1</th>\n",
              "      <td>30.286711</td>\n",
              "      <td>43.894998</td>\n",
              "      <td>0</td>\n",
              "    </tr>\n",
              "    <tr>\n",
              "      <th>2</th>\n",
              "      <td>35.847409</td>\n",
              "      <td>72.902198</td>\n",
              "      <td>0</td>\n",
              "    </tr>\n",
              "    <tr>\n",
              "      <th>3</th>\n",
              "      <td>60.182599</td>\n",
              "      <td>86.308552</td>\n",
              "      <td>1</td>\n",
              "    </tr>\n",
              "    <tr>\n",
              "      <th>4</th>\n",
              "      <td>79.032736</td>\n",
              "      <td>75.344376</td>\n",
              "      <td>1</td>\n",
              "    </tr>\n",
              "  </tbody>\n",
              "</table>\n",
              "</div>\n",
              "    <div class=\"colab-df-buttons\">\n",
              "\n",
              "  <div class=\"colab-df-container\">\n",
              "    <button class=\"colab-df-convert\" onclick=\"convertToInteractive('df-94e12e8f-9af5-4f1f-8428-bfbd58b7a820')\"\n",
              "            title=\"Convert this dataframe to an interactive table.\"\n",
              "            style=\"display:none;\">\n",
              "\n",
              "  <svg xmlns=\"http://www.w3.org/2000/svg\" height=\"24px\" viewBox=\"0 -960 960 960\">\n",
              "    <path d=\"M120-120v-720h720v720H120Zm60-500h600v-160H180v160Zm220 220h160v-160H400v160Zm0 220h160v-160H400v160ZM180-400h160v-160H180v160Zm440 0h160v-160H620v160ZM180-180h160v-160H180v160Zm440 0h160v-160H620v160Z\"/>\n",
              "  </svg>\n",
              "    </button>\n",
              "\n",
              "  <style>\n",
              "    .colab-df-container {\n",
              "      display:flex;\n",
              "      gap: 12px;\n",
              "    }\n",
              "\n",
              "    .colab-df-convert {\n",
              "      background-color: #E8F0FE;\n",
              "      border: none;\n",
              "      border-radius: 50%;\n",
              "      cursor: pointer;\n",
              "      display: none;\n",
              "      fill: #1967D2;\n",
              "      height: 32px;\n",
              "      padding: 0 0 0 0;\n",
              "      width: 32px;\n",
              "    }\n",
              "\n",
              "    .colab-df-convert:hover {\n",
              "      background-color: #E2EBFA;\n",
              "      box-shadow: 0px 1px 2px rgba(60, 64, 67, 0.3), 0px 1px 3px 1px rgba(60, 64, 67, 0.15);\n",
              "      fill: #174EA6;\n",
              "    }\n",
              "\n",
              "    .colab-df-buttons div {\n",
              "      margin-bottom: 4px;\n",
              "    }\n",
              "\n",
              "    [theme=dark] .colab-df-convert {\n",
              "      background-color: #3B4455;\n",
              "      fill: #D2E3FC;\n",
              "    }\n",
              "\n",
              "    [theme=dark] .colab-df-convert:hover {\n",
              "      background-color: #434B5C;\n",
              "      box-shadow: 0px 1px 3px 1px rgba(0, 0, 0, 0.15);\n",
              "      filter: drop-shadow(0px 1px 2px rgba(0, 0, 0, 0.3));\n",
              "      fill: #FFFFFF;\n",
              "    }\n",
              "  </style>\n",
              "\n",
              "    <script>\n",
              "      const buttonEl =\n",
              "        document.querySelector('#df-94e12e8f-9af5-4f1f-8428-bfbd58b7a820 button.colab-df-convert');\n",
              "      buttonEl.style.display =\n",
              "        google.colab.kernel.accessAllowed ? 'block' : 'none';\n",
              "\n",
              "      async function convertToInteractive(key) {\n",
              "        const element = document.querySelector('#df-94e12e8f-9af5-4f1f-8428-bfbd58b7a820');\n",
              "        const dataTable =\n",
              "          await google.colab.kernel.invokeFunction('convertToInteractive',\n",
              "                                                    [key], {});\n",
              "        if (!dataTable) return;\n",
              "\n",
              "        const docLinkHtml = 'Like what you see? Visit the ' +\n",
              "          '<a target=\"_blank\" href=https://colab.research.google.com/notebooks/data_table.ipynb>data table notebook</a>'\n",
              "          + ' to learn more about interactive tables.';\n",
              "        element.innerHTML = '';\n",
              "        dataTable['output_type'] = 'display_data';\n",
              "        await google.colab.output.renderOutput(dataTable, element);\n",
              "        const docLink = document.createElement('div');\n",
              "        docLink.innerHTML = docLinkHtml;\n",
              "        element.appendChild(docLink);\n",
              "      }\n",
              "    </script>\n",
              "  </div>\n",
              "\n",
              "\n",
              "<div id=\"df-8ee27dfc-7ed6-4c20-8b07-f19d50622c1a\">\n",
              "  <button class=\"colab-df-quickchart\" onclick=\"quickchart('df-8ee27dfc-7ed6-4c20-8b07-f19d50622c1a')\"\n",
              "            title=\"Suggest charts\"\n",
              "            style=\"display:none;\">\n",
              "\n",
              "<svg xmlns=\"http://www.w3.org/2000/svg\" height=\"24px\"viewBox=\"0 0 24 24\"\n",
              "     width=\"24px\">\n",
              "    <g>\n",
              "        <path d=\"M19 3H5c-1.1 0-2 .9-2 2v14c0 1.1.9 2 2 2h14c1.1 0 2-.9 2-2V5c0-1.1-.9-2-2-2zM9 17H7v-7h2v7zm4 0h-2V7h2v10zm4 0h-2v-4h2v4z\"/>\n",
              "    </g>\n",
              "</svg>\n",
              "  </button>\n",
              "\n",
              "<style>\n",
              "  .colab-df-quickchart {\n",
              "      --bg-color: #E8F0FE;\n",
              "      --fill-color: #1967D2;\n",
              "      --hover-bg-color: #E2EBFA;\n",
              "      --hover-fill-color: #174EA6;\n",
              "      --disabled-fill-color: #AAA;\n",
              "      --disabled-bg-color: #DDD;\n",
              "  }\n",
              "\n",
              "  [theme=dark] .colab-df-quickchart {\n",
              "      --bg-color: #3B4455;\n",
              "      --fill-color: #D2E3FC;\n",
              "      --hover-bg-color: #434B5C;\n",
              "      --hover-fill-color: #FFFFFF;\n",
              "      --disabled-bg-color: #3B4455;\n",
              "      --disabled-fill-color: #666;\n",
              "  }\n",
              "\n",
              "  .colab-df-quickchart {\n",
              "    background-color: var(--bg-color);\n",
              "    border: none;\n",
              "    border-radius: 50%;\n",
              "    cursor: pointer;\n",
              "    display: none;\n",
              "    fill: var(--fill-color);\n",
              "    height: 32px;\n",
              "    padding: 0;\n",
              "    width: 32px;\n",
              "  }\n",
              "\n",
              "  .colab-df-quickchart:hover {\n",
              "    background-color: var(--hover-bg-color);\n",
              "    box-shadow: 0 1px 2px rgba(60, 64, 67, 0.3), 0 1px 3px 1px rgba(60, 64, 67, 0.15);\n",
              "    fill: var(--button-hover-fill-color);\n",
              "  }\n",
              "\n",
              "  .colab-df-quickchart-complete:disabled,\n",
              "  .colab-df-quickchart-complete:disabled:hover {\n",
              "    background-color: var(--disabled-bg-color);\n",
              "    fill: var(--disabled-fill-color);\n",
              "    box-shadow: none;\n",
              "  }\n",
              "\n",
              "  .colab-df-spinner {\n",
              "    border: 2px solid var(--fill-color);\n",
              "    border-color: transparent;\n",
              "    border-bottom-color: var(--fill-color);\n",
              "    animation:\n",
              "      spin 1s steps(1) infinite;\n",
              "  }\n",
              "\n",
              "  @keyframes spin {\n",
              "    0% {\n",
              "      border-color: transparent;\n",
              "      border-bottom-color: var(--fill-color);\n",
              "      border-left-color: var(--fill-color);\n",
              "    }\n",
              "    20% {\n",
              "      border-color: transparent;\n",
              "      border-left-color: var(--fill-color);\n",
              "      border-top-color: var(--fill-color);\n",
              "    }\n",
              "    30% {\n",
              "      border-color: transparent;\n",
              "      border-left-color: var(--fill-color);\n",
              "      border-top-color: var(--fill-color);\n",
              "      border-right-color: var(--fill-color);\n",
              "    }\n",
              "    40% {\n",
              "      border-color: transparent;\n",
              "      border-right-color: var(--fill-color);\n",
              "      border-top-color: var(--fill-color);\n",
              "    }\n",
              "    60% {\n",
              "      border-color: transparent;\n",
              "      border-right-color: var(--fill-color);\n",
              "    }\n",
              "    80% {\n",
              "      border-color: transparent;\n",
              "      border-right-color: var(--fill-color);\n",
              "      border-bottom-color: var(--fill-color);\n",
              "    }\n",
              "    90% {\n",
              "      border-color: transparent;\n",
              "      border-bottom-color: var(--fill-color);\n",
              "    }\n",
              "  }\n",
              "</style>\n",
              "\n",
              "  <script>\n",
              "    async function quickchart(key) {\n",
              "      const quickchartButtonEl =\n",
              "        document.querySelector('#' + key + ' button');\n",
              "      quickchartButtonEl.disabled = true;  // To prevent multiple clicks.\n",
              "      quickchartButtonEl.classList.add('colab-df-spinner');\n",
              "      try {\n",
              "        const charts = await google.colab.kernel.invokeFunction(\n",
              "            'suggestCharts', [key], {});\n",
              "      } catch (error) {\n",
              "        console.error('Error during call to suggestCharts:', error);\n",
              "      }\n",
              "      quickchartButtonEl.classList.remove('colab-df-spinner');\n",
              "      quickchartButtonEl.classList.add('colab-df-quickchart-complete');\n",
              "    }\n",
              "    (() => {\n",
              "      let quickchartButtonEl =\n",
              "        document.querySelector('#df-8ee27dfc-7ed6-4c20-8b07-f19d50622c1a button');\n",
              "      quickchartButtonEl.style.display =\n",
              "        google.colab.kernel.accessAllowed ? 'block' : 'none';\n",
              "    })();\n",
              "  </script>\n",
              "</div>\n",
              "\n",
              "    </div>\n",
              "  </div>\n"
            ],
            "application/vnd.google.colaboratory.intrinsic+json": {
              "type": "dataframe",
              "variable_name": "df",
              "summary": "{\n  \"name\": \"df\",\n  \"rows\": 100,\n  \"fields\": [\n    {\n      \"column\": \"exam_score_1\",\n      \"properties\": {\n        \"dtype\": \"number\",\n        \"std\": 19.458222275425072,\n        \"min\": 30.05882244669796,\n        \"max\": 99.82785779692128,\n        \"num_unique_values\": 100,\n        \"samples\": [\n          57.23870631569862,\n          34.52451385320009,\n          32.72283304060323\n        ],\n        \"semantic_type\": \"\",\n        \"description\": \"\"\n      }\n    },\n    {\n      \"column\": \"exam_score_2\",\n      \"properties\": {\n        \"dtype\": \"number\",\n        \"std\": 18.582783039307344,\n        \"min\": 30.60326323428011,\n        \"max\": 98.86943574220612,\n        \"num_unique_values\": 100,\n        \"samples\": [\n          59.51428198012956,\n          60.39634245837173,\n          43.30717306430063\n        ],\n        \"semantic_type\": \"\",\n        \"description\": \"\"\n      }\n    },\n    {\n      \"column\": \"admitted\",\n      \"properties\": {\n        \"dtype\": \"number\",\n        \"std\": 0,\n        \"min\": 0,\n        \"max\": 1,\n        \"num_unique_values\": 2,\n        \"samples\": [\n          1,\n          0\n        ],\n        \"semantic_type\": \"\",\n        \"description\": \"\"\n      }\n    }\n  ]\n}"
            }
          },
          "metadata": {},
          "execution_count": 2
        }
      ],
      "source": [
        "df = pd.read_csv('/content/drive/MyDrive/PS 2 Logistic Regression/exams_data-1.txt', header=None)\n",
        "df.columns = ['exam_score_1', 'exam_score_2', 'admitted']\n",
        "df.head()"
      ]
    },
    {
      "cell_type": "code",
      "execution_count": 3,
      "id": "f00a5bd2",
      "metadata": {
        "id": "f00a5bd2"
      },
      "outputs": [],
      "source": [
        "# Initialize some useful values\n",
        "\n",
        "m = df.shape[0] # number of training samples\n",
        "X = np.hstack((np.ones((m, 1)), df[['exam_score_1', 'exam_score_2']].values))\n",
        "y = np.array(df['admitted'].values)"
      ]
    },
    {
      "cell_type": "markdown",
      "id": "903e6c87",
      "metadata": {
        "id": "903e6c87"
      },
      "source": [
        "### 2. Visualizing the Data"
      ]
    },
    {
      "cell_type": "code",
      "execution_count": 4,
      "id": "453bf816",
      "metadata": {
        "id": "453bf816"
      },
      "outputs": [],
      "source": [
        "def plot_data(X, y):\n",
        "    \"\"\" Plots the data points X and y with + for the positive examples and . for the negative examples.\n",
        "        X is assumed to be a mx3 matrix.\n",
        "    \"\"\"\n",
        "    pos = y == 1\n",
        "    neg = y == 0\n",
        "    plt.scatter(X[pos, 1], X[pos, 2], marker='+', c='blue', label='Admitted')\n",
        "    plt.scatter(X[neg, 1], X[neg, 2], marker='.', c='red', label='Not admitted')\n",
        "    plt.xlabel('Exam Score 1')\n",
        "    plt.ylabel('Exam Score 2')"
      ]
    },
    {
      "cell_type": "code",
      "execution_count": 5,
      "id": "4c30cbbe",
      "metadata": {
        "colab": {
          "base_uri": "https://localhost:8080/",
          "height": 449
        },
        "id": "4c30cbbe",
        "outputId": "f0074fea-d853-4db7-9646-5f5e6f8722ce"
      },
      "outputs": [
        {
          "output_type": "display_data",
          "data": {
            "text/plain": [
              "<Figure size 640x480 with 1 Axes>"
            ],
            "image/png": "[encoded data removed]"
          },
          "metadata": {}
        }
      ],
      "source": [
        "plot_data(X, y)"
      ]
    },
    {
      "cell_type": "markdown",
      "id": "27a3f3b8",
      "metadata": {
        "id": "27a3f3b8"
      },
      "source": [
        "### 3. Model Implementation"
      ]
    },
    {
      "cell_type": "markdown",
      "id": "bab9aa48",
      "metadata": {
        "id": "bab9aa48"
      },
      "source": [
        "Logistic regression hypothesis:\n",
        "\n",
        "$$h_\\theta(x) = g(\\theta^Tx)$$\n",
        "\n",
        "$$g(z) = \\frac{1}{1+e^{-z}}$$"
      ]
    },
    {
      "cell_type": "markdown",
      "id": "fc20dda3",
      "metadata": {
        "id": "fc20dda3"
      },
      "source": [
        "#### 3.1 Sigmoid function"
      ]
    },
    {
      "cell_type": "code",
      "execution_count": 10,
      "id": "a13be4b7",
      "metadata": {
        "id": "a13be4b7"
      },
      "outputs": [],
      "source": [
        "def sigmoid(z):\n",
        "    \"\"\" g = sigmoid(z) computes the sigmoid of z (z can be a scalar, vector or a matrix).\n",
        "    \"\"\"\n",
        "    z = np.array(z)\n",
        "    return 1 / (1 + np.exp(-z))"
      ]
    },
    {
      "cell_type": "code",
      "execution_count": 11,
      "id": "d9ee0c6d",
      "metadata": {
        "colab": {
          "base_uri": "https://localhost:8080/"
        },
        "id": "d9ee0c6d",
        "outputId": "a68b3d6e-0cea-445e-dba2-e129494d6d24"
      },
      "outputs": [
        {
          "output_type": "execute_result",
          "data": {
            "text/plain": [
              "array([0.5       , 0.52497919, 0.62245933, 0.7109495 , 0.73105858])"
            ]
          },
          "metadata": {},
          "execution_count": 11
        }
      ],
      "source": [
        "sigmoid([0, 0.1, 0.5, 0.9, 1])"
      ]
    },
    {
      "cell_type": "markdown",
      "id": "8ac4c28c",
      "metadata": {
        "id": "8ac4c28c"
      },
      "source": [
        "#### 3.2 Cost function and gradient"
      ]
    },
    {
      "cell_type": "markdown",
      "id": "a2acc6f0",
      "metadata": {
        "id": "a2acc6f0"
      },
      "source": [
        "Cost function in logistic regression is:\n",
        "\n",
        "$$J(\\theta) = -\\frac{1}{m}\\sum_{i=1}^m[y^i log(h_\\theta(x^i))+(1-y^i)log(1-h_\\theta(x^i))]$$\n",
        "\n",
        "Vectorized implementation:\n",
        "\n",
        "$h = g(X\\theta)$\n",
        "\n",
        "$J(\\theta) = \\frac{1}{m}(-y^T log(h)-(1-y)^Tlog(1-h))$\n",
        "\n",
        "\n",
        "\n",
        "The gradient of the cost is a vector of the same length as $\\theta$ where $j^{th}$ element (for $j=0,1,...,n$) is defined as follows:\n",
        "\n",
        "$$\\nabla J(\\theta) = \\frac{1}{m} \\sum_{i=1}^m ((h_\\theta(x^i) - y^i) \\cdot x_j^i)$$\n",
        "\n",
        "Vectorized:\n",
        "$\\nabla J(\\theta) = \\frac{1}{m} \\cdot X^T \\cdot (g(X\\theta)-y)$"
      ]
    },
    {
      "cell_type": "code",
      "execution_count": 12,
      "id": "53f0e152",
      "metadata": {
        "id": "53f0e152"
      },
      "outputs": [],
      "source": [
        "# Compute cost and gradient for logistic regression\n",
        "def cost_function(theta, X, y):\n",
        "    \"\"\" J, grad = cost_function(theta, X, y) computes the cost of using theta as the parameter\n",
        "        for logistic regression and the gradient of the cost w.r.t. to the parameters.\n",
        "    \"\"\"\n",
        "\n",
        "    # You need to return the following variables correctly\n",
        "    J = 0\n",
        "    grad = np.zeros(len(theta))\n",
        "\n",
        "    # ====================== YOUR CODE HERE ====================================\n",
        "    # Instructions: Compute the cost of a particular choice of theta.\n",
        "    #               You should set J to the cost.\n",
        "    #               Compute the partial derivatives and set grad to the partial\n",
        "    #               derivatives of the cost w.r.t. each parameter in theta\n",
        "    #\n",
        "    # Note: grad should have the same dimensions as theta\n",
        "    #\n",
        "    # DIMENSIONS:\n",
        "    #   theta = (n+1) x 1\n",
        "    #   X     = m x (n+1)\n",
        "    #   y     = m x 1\n",
        "    #   grad  = (n+1) x 1\n",
        "    #   J     = Scalar\n",
        "\n",
        "\n",
        "\n",
        "\n",
        "\n",
        "\n",
        "\n",
        "    # =========================================================================\n",
        "    m = y.size  # number of training samples\n",
        "    h = sigmoid(np.dot(X, theta))\n",
        "    J = (-1 / m) * (np.dot(y, np.log(h)) + np.dot((1 - y), np.log(1 - h)))\n",
        "    grad = (1 / m) * np.dot(X.T, (h - y))\n",
        "    return J, grad"
      ]
    },
    {
      "cell_type": "code",
      "execution_count": 13,
      "id": "37670083",
      "metadata": {
        "colab": {
          "base_uri": "https://localhost:8080/"
        },
        "id": "37670083",
        "outputId": "ae90370a-d2e4-4375-f671-ca427a3833ed"
      },
      "outputs": [
        {
          "output_type": "stream",
          "name": "stdout",
          "text": [
            "Cost at initial theta (zeros): 0.6931471805599453\n",
            "Expected cost (approx): 0.693\n",
            "Gradient at initial theta (zeros):\n",
            "[ -0.1        -12.00921659 -11.26284221]\n",
            "Expected gradients (approx):\n",
            " -0.1000\n",
            " -12.0092\n",
            " -11.2628\n"
          ]
        }
      ],
      "source": [
        "initial_theta = np.zeros(shape=(X.shape[1]))\n",
        "cost, grad = cost_function(initial_theta, X, y)\n",
        "\n",
        "print('Cost at initial theta (zeros):', cost)\n",
        "print('Expected cost (approx): 0.693')\n",
        "print('Gradient at initial theta (zeros):')\n",
        "print(grad)\n",
        "print('Expected gradients (approx):\\n -0.1000\\n -12.0092\\n -11.2628')"
      ]
    },
    {
      "cell_type": "markdown",
      "id": "4e1ebddd",
      "metadata": {
        "id": "4e1ebddd"
      },
      "source": [
        "#### 3.3 Learning parameters using an optimization solver"
      ]
    },
    {
      "cell_type": "markdown",
      "id": "b8c2d481",
      "metadata": {
        "id": "b8c2d481"
      },
      "source": [
        "\"Conjugate gradient\", \"BFGS\", and \"TNC (Truncated Newton)\" are more sophisticated, faster ways to optimize\n",
        " that can be used instead of gradient descent."
      ]
    },
    {
      "cell_type": "code",
      "execution_count": 14,
      "id": "54fe88c1",
      "metadata": {
        "id": "54fe88c1"
      },
      "outputs": [],
      "source": [
        "import scipy.optimize as opt\n",
        "\n",
        "def optimize_theta(X, y, initial_theta):\n",
        "    opt_results = opt.minimize(cost_function, initial_theta, args=(X, y), method='TNC',\n",
        "                               jac=True, options={'maxiter':400})\n",
        "    return opt_results['x'], opt_results['fun']"
      ]
    },
    {
      "cell_type": "code",
      "execution_count": 15,
      "id": "4ea7862d",
      "metadata": {
        "colab": {
          "base_uri": "https://localhost:8080/"
        },
        "id": "4ea7862d",
        "outputId": "0fe2fc97-370e-4bdb-e2a1-701d502d7e94"
      },
      "outputs": [
        {
          "output_type": "stream",
          "name": "stderr",
          "text": [
            "<ipython-input-14-057875fbc25f>:4: OptimizeWarning: Unknown solver options: maxiter\n",
            "  opt_results = opt.minimize(cost_function, initial_theta, args=(X, y), method='TNC',\n"
          ]
        }
      ],
      "source": [
        "opt_theta, cost = optimize_theta(X, y, initial_theta)"
      ]
    },
    {
      "cell_type": "code",
      "execution_count": 16,
      "id": "cc827acc",
      "metadata": {
        "colab": {
          "base_uri": "https://localhost:8080/"
        },
        "id": "cc827acc",
        "outputId": "4a18b1ec-d0e2-4340-adc4-638d2c5e407e"
      },
      "outputs": [
        {
          "output_type": "stream",
          "name": "stdout",
          "text": [
            "Cost at theta found by fminunc: 0.20349770158947478\n",
            "Expected cost (approx): 0.203\n",
            "theta:\n",
            " [[-25.16131857]\n",
            " [  0.20623159]\n",
            " [  0.20147149]]\n",
            "Expected theta (approx):\n",
            " -25.161\n",
            " 0.206\n",
            " 0.201\n"
          ]
        }
      ],
      "source": [
        "print('Cost at theta found by fminunc:', cost)\n",
        "print('Expected cost (approx): 0.203')\n",
        "print('theta:\\n', opt_theta.reshape(-1,1))\n",
        "print('Expected theta (approx):')\n",
        "print(' -25.161\\n 0.206\\n 0.201')"
      ]
    },
    {
      "cell_type": "markdown",
      "id": "585f8514",
      "metadata": {
        "id": "585f8514"
      },
      "source": [
        "### 4. Evaluating the Model"
      ]
    },
    {
      "cell_type": "code",
      "execution_count": 17,
      "id": "a95d6116",
      "metadata": {
        "colab": {
          "base_uri": "https://localhost:8080/"
        },
        "id": "a95d6116",
        "outputId": "dea3b9f7-509b-4251-926c-740e14e26f1d"
      },
      "outputs": [
        {
          "output_type": "stream",
          "name": "stdout",
          "text": [
            "For a student with scores 45 and 85, we predict an admission probability of 0.7762906222622858\n",
            "Expected value: 0.775 +/- 0.002\n"
          ]
        }
      ],
      "source": [
        "prob = sigmoid(np.array([1, 45, 85]).dot(opt_theta))\n",
        "print('For a student with scores 45 and 85, we predict an admission probability of', prob)\n",
        "print('Expected value: 0.775 +/- 0.002')"
      ]
    },
    {
      "cell_type": "markdown",
      "id": "bd6295fd",
      "metadata": {
        "id": "bd6295fd"
      },
      "source": [
        "#### 4.1 Accuracy on the training set"
      ]
    },
    {
      "cell_type": "code",
      "execution_count": 18,
      "id": "444ff435",
      "metadata": {
        "id": "444ff435"
      },
      "outputs": [],
      "source": [
        "def predict(theta, X):\n",
        "    \"\"\" Predict whether the label is 0 or 1 using learned logistic regression parameters theta\n",
        "        y_pred = PREDICT(theta, X) computes the predictions for X using a threshold at 0.5\n",
        "        (i.e., if sigmoid(X @ theta) >= 0.5, predict 1)\n",
        "    \"\"\"\n",
        "\n",
        "    # You need to return the following variables correctly\n",
        "    y_pred = np.zeros(m)\n",
        "\n",
        "    # ====================== YOUR CODE HERE ===================================\n",
        "    # Instructions: Complete the following code to make predictions using\n",
        "    #               your learned logistic regression parameters.\n",
        "    #               You should set p to a vector of 0's and 1's\n",
        "    #\n",
        "    # Dimentions:\n",
        "    # X     =  m x (n+1)\n",
        "    # theta = (n+1) x 1\n",
        "\n",
        "\n",
        "\n",
        "\n",
        "\n",
        "    # =========================================================================\n",
        "    prob = sigmoid(np.dot(X, theta))\n",
        "    y_pred = (prob >= 0.5).astype(int)\n",
        "    return y_pred"
      ]
    },
    {
      "cell_type": "code",
      "execution_count": 19,
      "id": "b7ba7c50",
      "metadata": {
        "colab": {
          "base_uri": "https://localhost:8080/"
        },
        "id": "b7ba7c50",
        "outputId": "cf4b56db-b01a-4bd9-e848-26b5e673b831"
      },
      "outputs": [
        {
          "output_type": "stream",
          "name": "stdout",
          "text": [
            "Train accuracy: 89.0%\n"
          ]
        }
      ],
      "source": [
        "y_pred = predict(opt_theta, X)\n",
        "print(f'Train accuracy: {np.mean(y_pred == y) * 100}%')"
      ]
    },
    {
      "cell_type": "markdown",
      "id": "a6a6612b",
      "metadata": {
        "id": "a6a6612b"
      },
      "source": [
        "#### 4.2 Decision boundary"
      ]
    },
    {
      "cell_type": "code",
      "execution_count": 21,
      "id": "c934251c",
      "metadata": {
        "id": "c934251c"
      },
      "outputs": [],
      "source": [
        "def plot_data_with_decision_boundary(theta, X, y):\n",
        "    \"\"\" Plots the training data with the decision boundary\n",
        "    \"\"\"\n",
        "\n",
        "    # ====================== YOUR CODE HERE ===================================\n",
        "\n",
        "\n",
        "\n",
        "\n",
        "\n",
        "\n",
        "\n",
        "\n",
        "    # =========================================================================\n",
        "    plt.figure(figsize=(8, 6))\n",
        "    pos = (y == 1)\n",
        "    neg = (y == 0)\n",
        "    plt.scatter(X[pos, 1], X[pos, 2], marker='+', color='b', label='Admitted')\n",
        "    plt.scatter(X[neg, 1], X[neg, 2], marker='o', color='r', label='Not admitted')\n",
        "    x1_vals = np.linspace(X[:,1].min(), X[:,1].max(), 100)\n",
        "\n",
        "    x2_vals = -(theta[0] + theta[1] * x1_vals) / theta[2]\n",
        "    plt.plot(x1_vals, x2_vals, 'g-', label='Decision Boundary')\n",
        "\n",
        "\n",
        "    plt.xlabel('Exam 1 Score')\n",
        "    plt.ylabel('Exam 2 Score')\n",
        "    plt.title('Training Data with Decision Boundary')\n",
        "    plt.legend()\n",
        "    plt.show()\n"
      ]
    },
    {
      "cell_type": "code",
      "execution_count": 22,
      "id": "14337424",
      "metadata": {
        "colab": {
          "base_uri": "https://localhost:8080/",
          "height": 564
        },
        "id": "14337424",
        "outputId": "b414f251-7c4f-430b-da01-95844d462b62"
      },
      "outputs": [
        {
          "output_type": "display_data",
          "data": {
            "text/plain": [
              "<Figure size 800x600 with 1 Axes>"
            ],
            "image/png": "[encoded data removed]"
          },
          "metadata": {}
        }
      ],
      "source": [
        "plot_data_with_decision_boundary(opt_theta, X, y)"
      ]
    },
    {
      "cell_type": "code",
      "source": [],
      "metadata": {
        "id": "u8QE8wbcGC_A"
      },
      "id": "u8QE8wbcGC_A",
      "execution_count": null,
      "outputs": []
    }
  ],
  "metadata": {
    "kernelspec": {
      "display_name": "Python 3 (ipykernel)",
      "language": "python",
      "name": "python3"
    },
    "language_info": {
      "codemirror_mode": {
        "name": "ipython",
        "version": 3
      },
      "file_extension": ".py",
      "mimetype": "text/x-python",
      "name": "python",
      "nbconvert_exporter": "python",
      "pygments_lexer": "ipython3",
      "version": "3.9.12"
    },
    "colab": {
      "provenance": []
    }
  },
  "nbformat": 4,
  "nbformat_minor": 5
}