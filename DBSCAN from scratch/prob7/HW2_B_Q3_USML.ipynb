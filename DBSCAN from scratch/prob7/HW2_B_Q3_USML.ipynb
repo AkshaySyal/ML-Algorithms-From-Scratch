{
  "nbformat": 4,
  "nbformat_minor": 0,
  "metadata": {
    "colab": {
      "provenance": []
    },
    "kernelspec": {
      "name": "python3",
      "display_name": "Python 3"
    },
    "language_info": {
      "name": "python"
    }
  },
  "cells": [
    {
      "cell_type": "markdown",
      "source": [
        "#PROBLEM 7: DBSCAN on real data\n",
        "Run the DBSCAN algorithm on the 20NG dataset, and on the FASHION dataset, and the HouseHold dataset (see papers), and evaluate results. You need to implement both phases (1) neighborhoods creation, (2) DBSCAN.\n",
        "Explain why/when it works, and speculate why/when not. You need to trial and error for parameters epsilon and MinPts\n",
        "\n",
        "DBSCAN Revisited, Revisited: Why and How You Should (Still) Use DBSCAN\n",
        "DBSCAN Revisited:Mis-Claim, Un-Fixability, and Approximation\n",
        "\n",
        "EXTRA CREDIT: Using class labels (cheating), try to remove/add points in curate the set for better DBSCAN runs"
      ],
      "metadata": {
        "id": "XNumIIkJZE7I"
      }
    },
    {
      "cell_type": "code",
      "source": [
        "!pip install idx2numpy"
      ],
      "metadata": {
        "collapsed": true,
        "colab": {
          "base_uri": "https://localhost:8080/"
        },
        "id": "mJYgYio5Qxf6",
        "outputId": "7820299e-f1af-4b29-c010-fdef762951aa"
      },
      "execution_count": 1,
      "outputs": [
        {
          "output_type": "stream",
          "name": "stdout",
          "text": [
            "Requirement already satisfied: idx2numpy in /usr/local/lib/python3.10/dist-packages (1.2.3)\n",
            "Requirement already satisfied: numpy in /usr/local/lib/python3.10/dist-packages (from idx2numpy) (1.25.2)\n",
            "Requirement already satisfied: six in /usr/local/lib/python3.10/dist-packages (from idx2numpy) (1.16.0)\n"
          ]
        }
      ]
    },
    {
      "cell_type": "code",
      "execution_count": 197,
      "metadata": {
        "id": "7cRl2pDDdMRk",
        "colab": {
          "base_uri": "https://localhost:8080/"
        },
        "outputId": "bbaccecb-68dd-4885-e56f-ab948f89dfb1"
      },
      "outputs": [
        {
          "output_type": "stream",
          "name": "stdout",
          "text": [
            "Drive already mounted at /content/drive; to attempt to forcibly remount, call drive.mount(\"/content/drive\", force_remount=True).\n"
          ]
        }
      ],
      "source": [
        "import pandas as pd\n",
        "import numpy as np\n",
        "import matplotlib.pyplot as plt\n",
        "from google.colab import drive\n",
        "from sklearn.neighbors import BallTree\n",
        "from sklearn.neighbors import KDTree\n",
        "import seaborn as sns\n",
        "drive.mount('/content/drive')\n",
        "import idx2numpy\n",
        "from sklearn.datasets import fetch_20newsgroups\n",
        "from collections import Counter\n",
        "import pickle"
      ]
    },
    {
      "cell_type": "markdown",
      "source": [
        "# Fashion Dataset"
      ],
      "metadata": {
        "id": "VAvHjngkvytW"
      }
    },
    {
      "cell_type": "code",
      "source": [
        "# Fashion Train dataset\n",
        "imgs = idx2numpy.convert_from_file('/content/drive/MyDrive/USML/HW 2B/Fashion/train-images-idx3-ubyte')\n",
        "lbls = idx2numpy.convert_from_file('/content/drive/MyDrive/USML/HW 2B/Fashion/train-labels-idx1-ubyte')\n",
        "imgs_flat = imgs.reshape(imgs.shape[0],-1)"
      ],
      "metadata": {
        "id": "jIeQAhACC58I"
      },
      "execution_count": 4,
      "outputs": []
    },
    {
      "cell_type": "code",
      "source": [
        "fashion_ball_tree = BallTree(imgs_flat,metric='euclidean')"
      ],
      "metadata": {
        "id": "LVX6NDZKRbdk"
      },
      "execution_count": 5,
      "outputs": []
    },
    {
      "cell_type": "markdown",
      "source": [
        "## Attempt 1 - To find appropriate Eps"
      ],
      "metadata": {
        "id": "2sy0sk3Sv8Z-"
      }
    },
    {
      "cell_type": "code",
      "source": [
        "boot = imgs_flat[0] # lbl = 9\n",
        "tshirt = imgs_flat[1] # lbl = 0\n",
        "dress = imgs_flat[3] # lbl = 3\n",
        "pullover = imgs_flat[5] # lbl = 2\n",
        "sneaker = imgs_flat[6] # lbl = 7\n",
        "sandal = imgs_flat[8] # lbl = 5\n",
        "trouser = imgs_flat[16] # lbl = 1\n",
        "shirt = imgs_flat[18] # lbl = 6\n",
        "coat = imgs_flat[19] # lbl = 4\n",
        "bag = imgs_flat[35] # lbl = 8\n",
        "\n"
      ],
      "metadata": {
        "id": "0pS15ARCv422"
      },
      "execution_count": 6,
      "outputs": []
    },
    {
      "cell_type": "code",
      "source": [
        "def accuracy(radius,img,img_lbl,img_lbl_name):\n",
        "  similar_imgs = fashion_ball_tree.query_radius([img], r=radius)\n",
        "  indices_of_similar_imgs = similar_imgs[0]\n",
        "  correct_lbl = 0\n",
        "  for idx in indices_of_similar_imgs:\n",
        "    if lbls[idx] == img_lbl:\n",
        "      correct_lbl += 1\n",
        "  total_lbls = len(indices_of_similar_imgs)\n",
        "  accu = (correct_lbl/total_lbls) * 100\n",
        "  print(f\"For radius {radius}, class {img_lbl_name} is correctly classified {accu:.2f}% out of {total_lbls}\")\n",
        "  return accu"
      ],
      "metadata": {
        "id": "Gs1ERbApwD8s"
      },
      "execution_count": 35,
      "outputs": []
    },
    {
      "cell_type": "code",
      "source": [
        "radius = 1625\n",
        "img_sample = {\n",
        "    'boot': [boot,radius,9],\n",
        "    'tshirt': [tshirt,radius,0],\n",
        "    'dress': [dress,radius,3],\n",
        "    'pullover': [pullover,radius,2],\n",
        "    'sneaker': [sneaker,radius,7],\n",
        "    'sandal': [sandal,radius,5],\n",
        "    'trouser': [trouser,radius,1],\n",
        "    'shirt': [shirt,radius,6],\n",
        "    'coat': [coat,radius,4],\n",
        "    'bag': [bag,radius,8]\n",
        "}\n",
        "avg_accuracy = 0\n",
        "for lbl_name,(img,radius,lbl) in img_sample.items():\n",
        "  avg_accuracy += accuracy(radius,img,lbl,lbl_name)\n",
        "\n",
        "print(f\"Average Accuracy:{avg_accuracy/10} \")"
      ],
      "metadata": {
        "colab": {
          "base_uri": "https://localhost:8080/"
        },
        "id": "PIkjJ8p7wRMJ",
        "outputId": "d5f694f7-fe57-44a2-82aa-57b73c75d3ad"
      },
      "execution_count": 51,
      "outputs": [
        {
          "output_type": "stream",
          "name": "stdout",
          "text": [
            "For radius 1625, class boot is correctly classified 94.47% out of 199\n",
            "For radius 1625, class tshirt is correctly classified 96.83% out of 852\n",
            "For radius 1625, class dress is correctly classified 21.79% out of 3221\n",
            "For radius 1625, class pullover is correctly classified 81.76% out of 669\n",
            "For radius 1625, class sneaker is correctly classified 89.32% out of 3455\n",
            "For radius 1625, class sandal is correctly classified 91.82% out of 318\n",
            "For radius 1625, class trouser is correctly classified 94.68% out of 1033\n",
            "For radius 1625, class shirt is correctly classified 28.94% out of 2426\n",
            "For radius 1625, class coat is correctly classified 11.58% out of 5641\n",
            "For radius 1625, class bag is correctly classified 77.11% out of 450\n",
            "Average Accuracy:68.8304669488624 \n"
          ]
        }
      ]
    },
    {
      "cell_type": "markdown",
      "source": [
        "## Attempt 2 - To find Eps"
      ],
      "metadata": {
        "id": "dZRC7Amb3B0b"
      }
    },
    {
      "cell_type": "code",
      "source": [
        "# Determining EPS and MINPTS\n",
        "# 1. Calculate distance of k-th nearest neighbor for each point\n",
        "# 2. Plot in ascending / descending order\n",
        "# 3. Set EPS to max distance before “jump”\n",
        "# 4. Set Minpts to k.\n",
        "def determineEpsAndMinPts(k, ball_tree, data):\n",
        "  distances, indices = ball_tree.query(data,k=k)\n",
        "  kth_distances = distances[:,-1]\n",
        "  kth_distances.sort()\n",
        "  plt.plot(kth_distances)\n",
        "  plt.show()"
      ],
      "metadata": {
        "id": "tqpDQU4RYcxV"
      },
      "execution_count": 135,
      "outputs": []
    },
    {
      "cell_type": "code",
      "source": [
        "determineEpsAndMinPts(785, fashion_ball_tree, imgs_flat)"
      ],
      "metadata": {
        "colab": {
          "base_uri": "https://localhost:8080/",
          "height": 402
        },
        "id": "PJ-KjevH3Uea",
        "outputId": "0a8e13cb-fdaa-4b4c-aaaa-34f219851709"
      },
      "execution_count": 115,
      "outputs": [
        {
          "output_type": "display_data",
          "data": {
            "text/plain": [
              "<Figure size 640x480 with 1 Axes>"
            ],
            "image/png": "[encoded data removed]"
          },
          "metadata": {}
        }
      ]
    },
    {
      "cell_type": "markdown",
      "source": [
        "## DBSCAN"
      ],
      "metadata": {
        "id": "_OpR272x65sC"
      }
    },
    {
      "cell_type": "code",
      "source": [
        "# returns index of neighbors\n",
        "def RangeQuery(DB, ball_tree, pt_idx, eps):\n",
        "  return ball_tree.query_radius([DB[pt_idx]], r=eps)[0]"
      ],
      "metadata": {
        "id": "adXzBGbefK26"
      },
      "execution_count": 97,
      "outputs": []
    },
    {
      "cell_type": "code",
      "source": [
        "def DBSCAN(DB, ball_tree, eps, minPts = 785):\n",
        "  c = 0\n",
        "  idx = 0\n",
        "  lbl = [None for i in range(len(DB))]\n",
        "\n",
        "  while idx < DB.shape[0]:\n",
        "    if(lbl[idx] is not None):\n",
        "      idx+=1\n",
        "      continue\n",
        "    N = RangeQuery(DB, ball_tree, idx, eps)\n",
        "    if(len(N) < minPts):\n",
        "      lbl[idx] = -1 # lbl of -1 means noise\n",
        "      idx+=1\n",
        "      continue\n",
        "\n",
        "    c += 1\n",
        "    lbl[idx] = c\n",
        "\n",
        "    seedset = []\n",
        "    seedset.extend(N)\n",
        "    seedset.remove(idx)\n",
        "\n",
        "    while len(seedset)>0:\n",
        "      pt = seedset.pop(0)\n",
        "\n",
        "      if(lbl[pt] == -1):\n",
        "        lbl[pt] = c\n",
        "\n",
        "      elif(lbl[pt] is not None):\n",
        "        continue\n",
        "\n",
        "      lbl[pt] = c\n",
        "      N = RangeQuery(DB, ball_tree, pt, eps)\n",
        "\n",
        "      if(len(N) >= minPts):\n",
        "        seedset.extend(N)\n",
        "\n",
        "    idx+=1\n",
        "  return lbl"
      ],
      "metadata": {
        "id": "aq0NQWlffTXs"
      },
      "execution_count": 217,
      "outputs": []
    },
    {
      "cell_type": "code",
      "source": [
        "sample_indices = np.random.choice(imgs_flat.shape[0], 1000, replace=False)\n",
        "sampled_imgs = imgs_flat[sample_indices]\n",
        "sampled_ball_tree = BallTree(sampled_imgs,metric='euclidean')"
      ],
      "metadata": {
        "id": "AsQJtGCZ_xyM"
      },
      "execution_count": 178,
      "outputs": []
    },
    {
      "cell_type": "code",
      "source": [
        "labels = DBSCAN(sampled_imgs, sampled_ball_tree, eps = 1200, minPts = 3)\n",
        "value_counts = Counter(labels)\n",
        "value_counts"
      ],
      "metadata": {
        "colab": {
          "base_uri": "https://localhost:8080/"
        },
        "id": "2Y3fJP2SCj7-",
        "outputId": "31349235-8d2b-41f5-d38c-94dd0aaf5bc4"
      },
      "execution_count": 179,
      "outputs": [
        {
          "output_type": "execute_result",
          "data": {
            "text/plain": [
              "Counter({1: 444,\n",
              "         -1: 484,\n",
              "         2: 11,\n",
              "         3: 21,\n",
              "         4: 11,\n",
              "         6: 7,\n",
              "         5: 4,\n",
              "         8: 3,\n",
              "         7: 4,\n",
              "         10: 3,\n",
              "         11: 3,\n",
              "         9: 5})"
            ]
          },
          "metadata": {},
          "execution_count": 179
        }
      ]
    },
    {
      "cell_type": "markdown",
      "source": [
        "### Evaluation (Purity)"
      ],
      "metadata": {
        "id": "97jcqpGgIiu6"
      }
    },
    {
      "cell_type": "code",
      "source": [
        "def purity(algo_det_lbls, sample_indices):\n",
        "  # Confusion matrix of algorithm determined cluster indices (row) vs true cluster indices (column)\n",
        "  # purity = sum of row wise max / total data points\n",
        "\n",
        "  true_lbls = lbls[sample_indices]\n",
        "  cm = np.zeros((len(set(labels)),len(set(true_lbls))), dtype=int)\n",
        "\n",
        "  for i in range(len(algo_det_lbls)):\n",
        "    algo_det_lbl = algo_det_lbls[i]\n",
        "    true_lbl = lbls[i]\n",
        "    cm[algo_det_lbl][true_lbl] += 1\n",
        "\n",
        "  Pj_sum = np.sum(np.max(cm,axis=1))\n",
        "  print(f\"Purity: {Pj_sum/len(algo_det_lbls)}\")\n",
        "\n",
        "purity(labels,sample_indices)"
      ],
      "metadata": {
        "colab": {
          "base_uri": "https://localhost:8080/"
        },
        "id": "UCg9S0NoCr1_",
        "outputId": "008ad0ab-0f8e-46ff-9c0b-54adbca75330"
      },
      "execution_count": 182,
      "outputs": [
        {
          "output_type": "stream",
          "name": "stdout",
          "text": [
            "Purity: 0.131\n"
          ]
        }
      ]
    },
    {
      "cell_type": "markdown",
      "source": [
        "# UCI Household Dataset"
      ],
      "metadata": {
        "id": "fUgUHvfuafuu"
      }
    },
    {
      "cell_type": "code",
      "source": [
        "# # Cleaning UCI Household dataset\n",
        "# df = pd.read_csv('/content/drive/MyDrive/USML/HW 2B/household_power_consumption.txt', delimiter=';')\n",
        "# df.drop(columns=['Date','Time'], inplace=True)\n",
        "# df.replace('?', np.nan, inplace=True)\n",
        "# df = df.astype(float)\n",
        "# df.dropna(inplace=True)\n",
        "# numpy_array = df.values\n",
        "# with open('/content/drive/MyDrive/USML/HW 2B/numpy_array.pkl', 'wb') as f:\n",
        "#     pickle.dump(numpy_array, f)"
      ],
      "metadata": {
        "id": "chs7d2SFEL4V"
      },
      "execution_count": null,
      "outputs": []
    },
    {
      "cell_type": "code",
      "source": [
        "with open('/content/drive/MyDrive/USML/HW 2B/UCI Household Dataset/numpy_array.pkl', 'rb') as f:\n",
        "    household = pickle.load(f)"
      ],
      "metadata": {
        "id": "ogrkdwXuaj1e"
      },
      "execution_count": 108,
      "outputs": []
    },
    {
      "cell_type": "code",
      "source": [
        "household.shape"
      ],
      "metadata": {
        "colab": {
          "base_uri": "https://localhost:8080/"
        },
        "id": "O9Yqo9Q0alpa",
        "outputId": "331ae23a-5d95-4a03-dbdb-bac2aacf6bf3"
      },
      "execution_count": 109,
      "outputs": [
        {
          "output_type": "execute_result",
          "data": {
            "text/plain": [
              "(2049280, 7)"
            ]
          },
          "metadata": {},
          "execution_count": 109
        }
      ]
    },
    {
      "cell_type": "code",
      "source": [
        "sample_indices = np.random.choice(household.shape[0], 2000, replace=False)\n",
        "sampled_recs = household[sample_indices]\n",
        "ball_tree = BallTree(sampled_recs,metric='euclidean')"
      ],
      "metadata": {
        "id": "xXltPy67auP1"
      },
      "execution_count": 110,
      "outputs": []
    },
    {
      "cell_type": "code",
      "source": [
        "determineEpsAndMinPts(8, ball_tree, sampled_recs)"
      ],
      "metadata": {
        "colab": {
          "base_uri": "https://localhost:8080/",
          "height": 430
        },
        "id": "o1biy-82auzy",
        "outputId": "5dd7ad46-3c5d-4ba5-d2d4-d777bac0c0cc"
      },
      "execution_count": 111,
      "outputs": [
        {
          "output_type": "display_data",
          "data": {
            "text/plain": [
              "<Figure size 640x480 with 1 Axes>"
            ],
            "image/png": "[encoded data removed]"
          },
          "metadata": {}
        }
      ]
    },
    {
      "cell_type": "code",
      "source": [
        "labels = DBSCAN(sampled_recs, ball_tree, eps = 2.5, minPts = 8)"
      ],
      "metadata": {
        "id": "QoXFIJHoaxVa"
      },
      "execution_count": 112,
      "outputs": []
    },
    {
      "cell_type": "code",
      "source": [
        "value_counts = Counter(labels)\n",
        "value_counts"
      ],
      "metadata": {
        "colab": {
          "base_uri": "https://localhost:8080/"
        },
        "id": "XFOjraKQa0rC",
        "outputId": "c28ddd07-6416-49d6-bf49-c9890a44d685"
      },
      "execution_count": 113,
      "outputs": [
        {
          "output_type": "execute_result",
          "data": {
            "text/plain": [
              "Counter({1: 561, 2: 1252, -1: 149, 3: 25, 4: 13})"
            ]
          },
          "metadata": {},
          "execution_count": 113
        }
      ]
    },
    {
      "cell_type": "markdown",
      "source": [
        "# 20 NG dataset"
      ],
      "metadata": {
        "id": "DEELQ_1evY13"
      }
    },
    {
      "cell_type": "code",
      "source": [
        "with open('/content/drive/MyDrive/USML/HW 2B/20 NG/dataset.pkl', 'rb') as f:\n",
        "    tng = pickle.load(f)"
      ],
      "metadata": {
        "id": "fY1Mo3GNbB6w"
      },
      "execution_count": 187,
      "outputs": []
    },
    {
      "cell_type": "code",
      "source": [
        "with open('/content/drive/MyDrive/USML/HW 2B/20 NG/newsgrps_test_no_footers_headers_quotes.pkl', 'rb') as f:\n",
        "    data = pickle.load(f)"
      ],
      "metadata": {
        "id": "A5MoloQFzOPJ"
      },
      "execution_count": 189,
      "outputs": []
    },
    {
      "cell_type": "code",
      "source": [
        "lbls = data.target"
      ],
      "metadata": {
        "id": "zOQx-RT09a4l"
      },
      "execution_count": 230,
      "outputs": []
    },
    {
      "cell_type": "code",
      "source": [
        "sample_indices = np.random.choice(tng.shape[0], 2000, replace=False)\n",
        "sampled_docs = tng[sample_indices]\n",
        "ball_tree = BallTree(sampled_recs,metric='jaccard')"
      ],
      "metadata": {
        "id": "emo4DVCPxyu4"
      },
      "execution_count": 210,
      "outputs": []
    },
    {
      "cell_type": "code",
      "source": [
        "determineEpsAndMinPts(k=5, ball_tree = ball_tree, data = sampled_docs)"
      ],
      "metadata": {
        "id": "dYQug_OiycW6",
        "outputId": "58231b67-c965-4a16-d2ec-661a1a437de6",
        "colab": {
          "base_uri": "https://localhost:8080/",
          "height": 430
        }
      },
      "execution_count": 215,
      "outputs": [
        {
          "output_type": "display_data",
          "data": {
            "text/plain": [
              "<Figure size 640x480 with 1 Axes>"
            ],
            "image/png": "[encoded data removed]"
          },
          "metadata": {}
        }
      ]
    },
    {
      "cell_type": "code",
      "source": [
        "labels = DBSCAN(sampled_docs, ball_tree, eps = 0.9, minPts = 5)\n",
        "value_counts = Counter(labels)\n",
        "value_counts"
      ],
      "metadata": {
        "id": "llAMzkgOyePO",
        "outputId": "7b887549-e2bd-4700-8c4a-14bf7815a910",
        "colab": {
          "base_uri": "https://localhost:8080/"
        }
      },
      "execution_count": 229,
      "outputs": [
        {
          "output_type": "execute_result",
          "data": {
            "text/plain": [
              "Counter({1: 1963,\n",
              "         -1: 5,\n",
              "         2: 1,\n",
              "         3: 1,\n",
              "         4: 1,\n",
              "         5: 1,\n",
              "         6: 1,\n",
              "         7: 1,\n",
              "         8: 1,\n",
              "         9: 1,\n",
              "         10: 1,\n",
              "         11: 1,\n",
              "         12: 1,\n",
              "         13: 1,\n",
              "         14: 1,\n",
              "         15: 1,\n",
              "         16: 2,\n",
              "         17: 1,\n",
              "         18: 1,\n",
              "         19: 1,\n",
              "         20: 1,\n",
              "         21: 1,\n",
              "         22: 1,\n",
              "         23: 1,\n",
              "         24: 1,\n",
              "         25: 1,\n",
              "         26: 1,\n",
              "         27: 1,\n",
              "         28: 1,\n",
              "         29: 1,\n",
              "         30: 1,\n",
              "         31: 1,\n",
              "         32: 1})"
            ]
          },
          "metadata": {},
          "execution_count": 229
        }
      ]
    },
    {
      "cell_type": "code",
      "source": [
        "true_lbls = lbls[sample_indices]\n",
        "cm = np.zeros((len(set(labels)),len(set(true_lbls))), dtype=int)\n",
        "algo_det_lbls = labels\n",
        "\n",
        "for i in range(len(algo_det_lbls)):\n",
        "  algo_det_lbl = algo_det_lbls[i]\n",
        "  true_lbl = lbls[i]\n",
        "  cm[algo_det_lbl][true_lbl] += 1\n",
        "\n",
        "Pj_sum = np.sum(np.max(cm,axis=1))\n",
        "print(f\"Purity: {Pj_sum/len(algo_det_lbls)}\")"
      ],
      "metadata": {
        "id": "cw69tXbKylFy",
        "outputId": "3dd7dd01-4807-4e64-b121-715b34eebbf8",
        "colab": {
          "base_uri": "https://localhost:8080/"
        }
      },
      "execution_count": 232,
      "outputs": [
        {
          "output_type": "stream",
          "name": "stdout",
          "text": [
            "Purity: 0.0735\n"
          ]
        }
      ]
    }
  ]
}