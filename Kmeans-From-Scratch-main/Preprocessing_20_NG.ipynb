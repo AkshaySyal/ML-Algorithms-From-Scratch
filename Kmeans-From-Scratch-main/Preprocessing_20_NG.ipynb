{
  "nbformat": 4,
  "nbformat_minor": 0,
  "metadata": {
    "colab": {
      "provenance": [],
      "machine_shape": "hm"
    },
    "kernelspec": {
      "name": "python3",
      "display_name": "Python 3"
    },
    "language_info": {
      "name": "python"
    }
  },
  "cells": [
    {
      "cell_type": "code",
      "execution_count": 69,
      "metadata": {
        "colab": {
          "base_uri": "https://localhost:8080/"
        },
        "id": "1C4OfPkUL2Rw",
        "outputId": "60813f4a-72f7-4489-a8f1-dc5ae39eeab4"
      },
      "outputs": [
        {
          "output_type": "stream",
          "name": "stderr",
          "text": [
            "[nltk_data] Downloading package punkt to /root/nltk_data...\n",
            "[nltk_data]   Package punkt is already up-to-date!\n",
            "[nltk_data] Downloading package stopwords to /root/nltk_data...\n",
            "[nltk_data]   Package stopwords is already up-to-date!\n"
          ]
        },
        {
          "output_type": "stream",
          "name": "stdout",
          "text": [
            "Drive already mounted at /content/drive; to attempt to forcibly remount, call drive.mount(\"/content/drive\", force_remount=True).\n"
          ]
        },
        {
          "output_type": "stream",
          "name": "stderr",
          "text": [
            "[nltk_data] Downloading package wordnet to /root/nltk_data...\n",
            "[nltk_data]   Package wordnet is already up-to-date!\n"
          ]
        }
      ],
      "source": [
        "from sklearn.datasets import fetch_20newsgroups\n",
        "import re\n",
        "import nltk\n",
        "from nltk.corpus import stopwords\n",
        "from nltk.tokenize import word_tokenize\n",
        "nltk.download('punkt')\n",
        "nltk.download('stopwords')\n",
        "from collections import Counter\n",
        "import math\n",
        "from google.colab import drive\n",
        "drive.mount('/content/drive')\n",
        "from sklearn.datasets import load_files\n",
        "import pickle\n",
        "import numpy as np\n",
        "import matplotlib.pyplot as plt\n",
        "nltk.download('wordnet')\n",
        "from sklearn.feature_extraction.text import TfidfVectorizer\n",
        "import random"
      ]
    },
    {
      "cell_type": "code",
      "source": [
        "url = '/content/drive/MyDrive/USML HW2/newsgrps_test.pkl'\n",
        "url2 = '/content/drive/MyDrive/USML HW2/newsgrps_test_no_footers_headers_quotes.pkl'"
      ],
      "metadata": {
        "id": "lfi3creeMESk"
      },
      "execution_count": 21,
      "outputs": []
    },
    {
      "cell_type": "code",
      "source": [
        "with open(url2, 'rb') as file:\n",
        "  ng_test = pickle.load(file)"
      ],
      "metadata": {
        "id": "HNcMqo5xMPp8"
      },
      "execution_count": 22,
      "outputs": []
    },
    {
      "cell_type": "code",
      "source": [
        "len(ng_test.data)"
      ],
      "metadata": {
        "colab": {
          "base_uri": "https://localhost:8080/"
        },
        "id": "E2IuidgTOjJC",
        "outputId": "b0a09b00-4402-41d1-dadb-3437d197a1eb"
      },
      "execution_count": 23,
      "outputs": [
        {
          "output_type": "execute_result",
          "data": {
            "text/plain": [
              "7532"
            ]
          },
          "metadata": {},
          "execution_count": 23
        }
      ]
    },
    {
      "cell_type": "code",
      "source": [
        "len(ng_test.target)"
      ],
      "metadata": {
        "colab": {
          "base_uri": "https://localhost:8080/"
        },
        "id": "deF1lR41OlrH",
        "outputId": "1df08d01-3db3-4fc7-87ea-0c9c65ebe105"
      },
      "execution_count": 24,
      "outputs": [
        {
          "output_type": "execute_result",
          "data": {
            "text/plain": [
              "7532"
            ]
          },
          "metadata": {},
          "execution_count": 24
        }
      ]
    },
    {
      "cell_type": "code",
      "source": [
        "i = 10\n",
        "print(ng_test.data[i],ng_test.target_names[ng_test.target[i]])"
      ],
      "metadata": {
        "colab": {
          "base_uri": "https://localhost:8080/"
        },
        "id": "BiBvUZXKOqkd",
        "outputId": "1c6c37d7-110c-4917-d2ca-dba56d853e56"
      },
      "execution_count": 13,
      "outputs": [
        {
          "output_type": "stream",
          "name": "stdout",
          "text": [
            "From: Greg.Reinacker@FtCollins.NCR.COM\n",
            "Subject: Windows On-Line Review uploaded\n",
            "Reply-To: Greg.Reinacker@FtCollinsCO.NCR.COM\n",
            "Organization: NCR Microelectronics, Ft. Collins, CO\n",
            "Lines: 12\n",
            "\n",
            "I have uploaded the Windows On-Line Review shareware edition to\n",
            "ftp.cica.indiana.edu as /pub/pc/win3/uploads/wolrs7.zip.\n",
            "\n",
            "It is an on-line magazine which contains reviews of some shareware\n",
            "products...I grabbed it from the Windows On-Line BBS.\n",
            "\n",
            "--\n",
            "--------------------------------------------------------------------------\n",
            "Greg Reinacker                          (303) 223-5100 x9289\n",
            "NCR Microelectronic Products Division   VoicePlus 464-9289\n",
            "2001 Danfield Court                     Greg.Reinacker@FtCollinsCO.NCR.COM\n",
            "Fort Collins, CO  80525\n",
            " comp.os.ms-windows.misc\n"
          ]
        }
      ]
    },
    {
      "cell_type": "code",
      "source": [
        "i = 10\n",
        "print(ng_test.data[i])\n",
        "print(ng_test.target_names[ng_test.target[i]])"
      ],
      "metadata": {
        "colab": {
          "base_uri": "https://localhost:8080/"
        },
        "id": "yZ98YMHaOwJX",
        "outputId": "ae80b41e-f709-4d91-d79d-e41d84a5f3d2"
      },
      "execution_count": 28,
      "outputs": [
        {
          "output_type": "stream",
          "name": "stdout",
          "text": [
            "I have uploaded the Windows On-Line Review shareware edition to\n",
            "ftp.cica.indiana.edu as /pub/pc/win3/uploads/wolrs7.zip.\n",
            "\n",
            "It is an on-line magazine which contains reviews of some shareware\n",
            "products...I grabbed it from the Windows On-Line BBS.\n",
            "\n",
            "--\n",
            "comp.os.ms-windows.misc\n"
          ]
        }
      ]
    },
    {
      "cell_type": "code",
      "source": [
        "total_text = ''\n",
        "for i in range(len(ng_test.data)):\n",
        "  total_text += ng_test.data[i]"
      ],
      "metadata": {
        "id": "ekG_YNXQkyTp"
      },
      "execution_count": 35,
      "outputs": []
    },
    {
      "cell_type": "code",
      "source": [
        "text = ng_test.data[0]"
      ],
      "metadata": {
        "id": "cI7FyIg4mFYG"
      },
      "execution_count": 48,
      "outputs": []
    },
    {
      "cell_type": "code",
      "source": [
        "len(total_text)"
      ],
      "metadata": {
        "colab": {
          "base_uri": "https://localhost:8080/"
        },
        "id": "q8A_mtpSmISy",
        "outputId": "d1339367-e41f-4e7c-ebcc-f0736a11b45c"
      },
      "execution_count": 55,
      "outputs": [
        {
          "output_type": "execute_result",
          "data": {
            "text/plain": [
              "8261569"
            ]
          },
          "metadata": {},
          "execution_count": 55
        }
      ]
    },
    {
      "cell_type": "code",
      "source": [
        "from nltk.corpus import wordnet\n",
        "\n",
        "def is_valid_word(word):\n",
        "  return bool(wordnet.synsets(word))\n",
        "\n",
        "total_text = re.sub(r'[^a-zA-Z0-9 \\n]', '', total_text)\n",
        "total_text = re.sub(r'\\n+', ' ', total_text)\n",
        "total_text = total_text.lower()\n",
        "tokens = word_tokenize(total_text)\n",
        "stop_words = set(stopwords.words('english'))\n",
        "tokens = [word for word in tokens if word not in stop_words]\n",
        "filtered_tokens = [word for word in tokens if is_valid_word(word)]"
      ],
      "metadata": {
        "id": "Vuaw_rIBlpV7"
      },
      "execution_count": 56,
      "outputs": []
    },
    {
      "cell_type": "code",
      "source": [
        "len(filtered_tokens)"
      ],
      "metadata": {
        "colab": {
          "base_uri": "https://localhost:8080/"
        },
        "id": "D0iGQVyMSlvK",
        "outputId": "d3126558-d0b7-42d5-b06f-d7f21d41bf52"
      },
      "execution_count": 57,
      "outputs": [
        {
          "output_type": "execute_result",
          "data": {
            "text/plain": [
              "601285"
            ]
          },
          "metadata": {},
          "execution_count": 57
        }
      ]
    },
    {
      "cell_type": "code",
      "source": [
        "filtered_tokens = set(filtered_tokens)"
      ],
      "metadata": {
        "id": "QCJE5LgKn6xL"
      },
      "execution_count": 65,
      "outputs": []
    },
    {
      "cell_type": "code",
      "source": [
        "len(filtered_tokens)"
      ],
      "metadata": {
        "colab": {
          "base_uri": "https://localhost:8080/"
        },
        "id": "oY9mzBWVoC_K",
        "outputId": "e53b151f-cbcb-4c3b-cc3f-58db77395156"
      },
      "execution_count": 66,
      "outputs": [
        {
          "output_type": "execute_result",
          "data": {
            "text/plain": [
              "28892"
            ]
          },
          "metadata": {},
          "execution_count": 66
        }
      ]
    },
    {
      "cell_type": "code",
      "source": [
        "filtered_tokens_5k = random.sample(filtered_tokens, 5000)"
      ],
      "metadata": {
        "colab": {
          "base_uri": "https://localhost:8080/"
        },
        "id": "Y_PTXgA1qk5R",
        "outputId": "0ea6ac47-9c71-4176-9e0c-d1560c0a7e2c"
      },
      "execution_count": 70,
      "outputs": [
        {
          "output_type": "stream",
          "name": "stderr",
          "text": [
            "<ipython-input-70-ffbac7204284>:1: DeprecationWarning: Sampling from a set deprecated\n",
            "since Python 3.9 and will be removed in a subsequent version.\n",
            "  filtered_tokens_5k = random.sample(filtered_tokens, 5000)\n"
          ]
        }
      ]
    },
    {
      "cell_type": "code",
      "source": [
        "filtered_tokens_5k.sort()"
      ],
      "metadata": {
        "id": "sjhTKfpXq0p1"
      },
      "execution_count": 74,
      "outputs": []
    },
    {
      "cell_type": "code",
      "source": [
        "def preprocess_text(text):\n",
        "  text = re.sub(r'[^a-zA-Z0-9 \\n]', '', text)\n",
        "  text = re.sub(r'\\n+', ' ', text)\n",
        "  text = text.lower()\n",
        "  tokens = word_tokenize(text)\n",
        "  stop_words = set(stopwords.words('english'))\n",
        "  tokens = [word for word in tokens if word not in stop_words]\n",
        "  dict_tokens = dict(Counter(tokens))\n",
        "\n",
        "  np_arr = np.zeros(5000)\n",
        "  for i in range(len(filtered_tokens_5k)):\n",
        "    if filtered_tokens_5k[i] in dict_tokens:\n",
        "      np_arr[i] = dict_tokens[filtered_tokens_5k[i]]\n",
        "  return np_arr"
      ],
      "metadata": {
        "id": "YKwKhayrrJae"
      },
      "execution_count": 81,
      "outputs": []
    },
    {
      "cell_type": "code",
      "source": [
        "np_dataset = []\n",
        "\n",
        "for i in range(len(ng_test.data)):\n",
        "  np_dataset.append(preprocess_text(ng_test.data[i]))"
      ],
      "metadata": {
        "id": "Y_JyB_OToLud"
      },
      "execution_count": 99,
      "outputs": []
    },
    {
      "cell_type": "code",
      "source": [
        "idx = 1999\n",
        "for i in range(len(np_dataset[idx])):\n",
        "  if np_dataset[idx][i] != 0:\n",
        "    print(filtered_tokens_5k[i],np_dataset[idx][i])"
      ],
      "metadata": {
        "colab": {
          "base_uri": "https://localhost:8080/"
        },
        "id": "VkdcjPbpsJaC",
        "outputId": "b0ae1eb0-af99-4ae4-a92d-380ccd8b095d"
      },
      "execution_count": 131,
      "outputs": [
        {
          "output_type": "stream",
          "name": "stdout",
          "text": [
            "21 1.0\n",
            "40 1.0\n",
            "connector 1.0\n",
            "happily 1.0\n",
            "jitters 1.0\n",
            "macintosh 1.0\n",
            "plus 1.0\n",
            "subject 1.0\n",
            "work 1.0\n"
          ]
        }
      ]
    },
    {
      "cell_type": "code",
      "source": [
        "dataset = np.array(np_dataset)"
      ],
      "metadata": {
        "id": "Y52o7PdCssVJ"
      },
      "execution_count": 106,
      "outputs": []
    },
    {
      "cell_type": "code",
      "source": [
        "dataset.shape"
      ],
      "metadata": {
        "colab": {
          "base_uri": "https://localhost:8080/"
        },
        "id": "hFyrC_fAuV16",
        "outputId": "c7f52098-841a-4ea2-c7fe-7d8734807e20"
      },
      "execution_count": 107,
      "outputs": [
        {
          "output_type": "execute_result",
          "data": {
            "text/plain": [
              "(7532, 5000)"
            ]
          },
          "metadata": {},
          "execution_count": 107
        }
      ]
    },
    {
      "cell_type": "code",
      "source": [
        "dataset.nbytes"
      ],
      "metadata": {
        "colab": {
          "base_uri": "https://localhost:8080/"
        },
        "id": "7KsxmcHaunTR",
        "outputId": "25de0f28-929d-4c76-848c-5b3af9d144d4"
      },
      "execution_count": 108,
      "outputs": [
        {
          "output_type": "execute_result",
          "data": {
            "text/plain": [
              "301280000"
            ]
          },
          "metadata": {},
          "execution_count": 108
        }
      ]
    },
    {
      "cell_type": "code",
      "source": [
        "zero_count = np.count_nonzero(dataset == 0)\n",
        "\n",
        "# Calculate the total number of elements in the matrix\n",
        "total_elements = dataset.size\n",
        "\n",
        "# Calculate the sparsity (percentage of zero elements)\n",
        "sparsity = (zero_count / total_elements) * 100\n",
        "\n",
        "print(f\"The sparsity of the dataset is {sparsity:.2f}%\")"
      ],
      "metadata": {
        "colab": {
          "base_uri": "https://localhost:8080/"
        },
        "id": "Xjea14b4uq2R",
        "outputId": "b748a24a-40ff-40a7-f217-53e588e45893"
      },
      "execution_count": 109,
      "outputs": [
        {
          "output_type": "stream",
          "name": "stdout",
          "text": [
            "The sparsity of the dataset is 99.82%\n"
          ]
        }
      ]
    },
    {
      "cell_type": "code",
      "source": [
        "filename = '/content/drive/MyDrive/USML HW2/dataset.pkl'\n",
        "\n",
        "with open(filename, 'wb') as file:\n",
        "  pickle.dump(dataset, file)\n"
      ],
      "metadata": {
        "id": "eNfOWctJu9R0"
      },
      "execution_count": 132,
      "outputs": []
    },
    {
      "cell_type": "code",
      "source": [],
      "metadata": {
        "id": "rFBmSNE_xNVo"
      },
      "execution_count": null,
      "outputs": []
    }
  ]
}